{
 "cells": [
  {
   "cell_type": "code",
   "execution_count": 82,
   "metadata": {
    "collapsed": true
   },
   "outputs": [],
   "source": [
    "# reads a file, converts all of its fields to an integer and returns a list\n",
    "# with this converted values. \n",
    "def read_csv(file_name):\n",
    "    final_list = []\n",
    "    \n",
    "    f = open(file_name, 'r')\n",
    "    data = f.read()\n",
    "    rows = data.split('\\n')\n",
    "    print(rows[0])\n",
    "    no_header_rows = rows[1::]\n",
    "    \n",
    "    for row in no_header_rows:\n",
    "        string_fields = row.split(',')\n",
    "        int_fields = []\n",
    "        \n",
    "        for string in string_fields:\n",
    "            int_fields.append(int(string))\n",
    "        \n",
    "        final_list.append(int_fields)\n",
    "    \n",
    "    return final_list"
   ]
  },
  {
   "cell_type": "code",
   "execution_count": 83,
   "metadata": {
    "collapsed": true
   },
   "outputs": [],
   "source": [
    "# Returns a dict with the summation of births that occurred in a given \n",
    "# period (column)\n",
    "def calc_counts(data, column):\n",
    "    births ={}\n",
    "    \n",
    "    for line in data:\n",
    "        key = line[column]\n",
    "        number_of_births = line[4]\n",
    "        \n",
    "        if key in births:\n",
    "            births[key] += number_of_births\n",
    "        else:\n",
    "            births[key] = number_of_births\n",
    "        \n",
    "    return births"
   ]
  },
  {
   "cell_type": "code",
   "execution_count": 84,
   "metadata": {
    "collapsed": true
   },
   "outputs": [],
   "source": [
    "# returns the keys for maximum and minimum values of a dict\n",
    "def get_limits(dict):\n",
    "    \n",
    "    max_key = max(dict, key = lambda x: dict.get(x))\n",
    "    min_key = min(dict, key = lambda x: dict.get(x))\n",
    "    \n",
    "    return max_key, min_key"
   ]
  },
  {
   "cell_type": "code",
   "execution_count": 85,
   "metadata": {
    "collapsed": false,
    "scrolled": true
   },
   "outputs": [
    {
     "name": "stdout",
     "output_type": "stream",
     "text": [
      "year,month,date_of_month,day_of_week,births\n",
      "[[1994, 1, 1, 6, 8096], [1994, 1, 2, 7, 7772], [1994, 1, 3, 1, 10142], [1994, 1, 4, 2, 11248], [1994, 1, 5, 3, 11053], [1994, 1, 6, 4, 11406], [1994, 1, 7, 5, 11251], [1994, 1, 8, 6, 8653], [1994, 1, 9, 7, 7910], [1994, 1, 10, 1, 10498]]\n",
      "2 7\n"
     ]
    }
   ],
   "source": [
    "cdc_list = read_csv(\"US_births_1994-2003_CDC_NCHS.csv\")\n",
    "print(cdc_list[:10])\n",
    "\n",
    "cdc_year_births = calc_counts(cdc_list, 0)\n",
    "cdc_month_births = calc_counts(cdc_list, 1)\n",
    "cdc_dom_births = calc_counts(cdc_list, 2)\n",
    "cdc_dow_births = calc_counts(cdc_list, 3)\n",
    "\n",
    "m,n = get_limits(cdc_dow_births)\n",
    "print(m, n)"
   ]
  }
 ],
 "metadata": {
  "anaconda-cloud": {},
  "kernelspec": {
   "display_name": "Python 3",
   "language": "python",
   "name": "python3"
  },
  "language_info": {
   "codemirror_mode": {
    "name": "ipython",
    "version": 3
   },
   "file_extension": ".py",
   "mimetype": "text/x-python",
   "name": "python",
   "nbconvert_exporter": "python",
   "pygments_lexer": "ipython3",
   "version": "3.4.3"
  }
 },
 "nbformat": 4,
 "nbformat_minor": 1
}
